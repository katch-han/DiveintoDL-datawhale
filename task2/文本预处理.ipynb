{
 "cells": [
  {
   "cell_type": "markdown",
   "metadata": {},
   "source": [
    "## 文本预处理\n",
    "    文本是一类序列数据，一篇文章可以看作是字符或单词的序列，本节将介绍文本数据的常见预处理步骤，预处理通常包括四个步骤：\n",
    "\n",
    "### 读入文本\n",
    "    with open('/home/kesci/input/timemachine7163/timemachine.txt', 'r') as f:\n",
    "        lines = [re.sub('[^a-z]+', ' ', line.strip().lower()) for line in f]\n",
    "        # re.sub 会将所有非英文字母替换为空格\n",
    "\n",
    "### 分词"
   ]
  },
  {
   "cell_type": "code",
   "execution_count": null,
   "metadata": {},
   "outputs": [],
   "source": [
    "#简单分词\n",
    "    \n",
    "    def tokenize(sentences, token='word'):\n",
    "    \"\"\"Split sentences into word or char tokens\"\"\"\n",
    "    if token == 'word':\n",
    "        return [sentence.split(' ') for sentence in sentences]\n",
    "    elif token == 'char':\n",
    "        return [list(sentence) for sentence in sentences]\n",
    "    else:\n",
    "       print('ERROR: unkown token type '+token)\n",
    "#使用 spacy 或 NLTK 分词\n",
    "    \n",
    "    text = \"Mr. Chen doesn't agree with my suggestion.\"\n",
    "\n",
    "    import spacy\n",
    "    nlp = spacy.load('en_core_web_sm')\n",
    "    doc = nlp(text)\n",
    "    \n",
    "    from nltk.tokenize import word_tokenize\n",
    "    from nltk import data\n",
    "    data.path.append('/home/kesci/input/nltk_data3784/nltk_data')\n",
    "    print(word_tokenize(text))\n",
    "\n"
   ]
  },
  {
   "cell_type": "markdown",
   "metadata": {},
   "source": [
    "### 建立字典，将每个词映射到一个唯一的索引（index）\n",
    "1. 使用collections.Counter 统计所有单词，得到单词和对应的词频"
   ]
  },
  {
   "cell_type": "code",
   "execution_count": null,
   "metadata": {},
   "outputs": [],
   "source": [
    "def count_corpus(sentences):\n",
    "    tokens = [tk for st in sentences for tk in st]\n",
    "    return collections.Counter(tokens) \n",
    "\n",
    "counter = count_corpus(tokens)\n",
    "token_freqs = list(counter.items())"
   ]
  },
  {
   "cell_type": "code",
   "execution_count": null,
   "metadata": {},
   "outputs": [],
   "source": [
    "2. 建立ID到单词的映射和单词到ID的映射"
   ]
  },
  {
   "cell_type": "code",
   "execution_count": null,
   "metadata": {},
   "outputs": [],
   "source": [
    "self.idx_to_token = []\n",
    "        \n",
    "# padding, begin of sentence, end of sentence, unknown\n",
    "self.pad, self.bos, self.eos, self.unk = (0, 1, 2, 3)\n",
    "self.idx_to_token += ['', '', '', '']\n",
    "\n",
    "idx_to_token += [token for token, freq in self.token_freqs\n",
    "                        if freq >= min_freq and token not in self.idx_to_token]\n",
    "\n",
    "token_to_idx = dict()\n",
    "for idx, token in enumerate(self.idx_to_token):\n",
    "    token_to_idx[token] = idx"
   ]
  }
 ],
 "metadata": {
  "kernelspec": {
   "display_name": "Python 3",
   "language": "python",
   "name": "python3"
  },
  "language_info": {
   "codemirror_mode": {
    "name": "ipython",
    "version": 3
   },
   "file_extension": ".py",
   "mimetype": "text/x-python",
   "name": "python",
   "nbconvert_exporter": "python",
   "pygments_lexer": "ipython3",
   "version": "3.7.3"
  },
  "toc": {
   "base_numbering": 1,
   "nav_menu": {},
   "number_sections": true,
   "sideBar": true,
   "skip_h1_title": false,
   "title_cell": "Table of Contents",
   "title_sidebar": "Contents",
   "toc_cell": false,
   "toc_position": {},
   "toc_section_display": true,
   "toc_window_display": false
  }
 },
 "nbformat": 4,
 "nbformat_minor": 2
}
