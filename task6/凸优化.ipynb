{
 "cells": [
  {
   "cell_type": "markdown",
   "metadata": {},
   "source": [
    "## 优化与深度学习的关系\n",
    "优化为深度学习提供了最小化损失函数的方法，但本质上，优化与深度学习的目标是有区别的。 优化算法的目标函数通常是一个基于训练数据集的损失函数，优化的目标在于降低训练误差。 而深度学习的目标在于降低泛化误差。为了降低泛化误差，除了使用优化算法降低训练误差以外，还需要注意应对过拟合。\n",
    "\n",
    "深度学习中绝大多数目标函数都很复杂。因此，很多优化问题并不存在解析解，而需要使用基于数值方法的优化算法找到近似解，即数值解。本书中讨论的优化算法都是这类基于数值方法的算法。为了求得最小化目标函数的数值解，我们将通过优化算法有限次迭代模型参数来尽可能降低损失函数的值。\n"
   ]
  },
  {
   "cell_type": "markdown",
   "metadata": {},
   "source": [
    "## 局部最小值\n",
    "对于目标函数f(x)，如果f(x)在x上的值比在xx邻近的其他点的值更小，那么f(x)可能是一个局部最小值（local minimum）。如果f(x)在x上的值是目标函数在整个定义域上的最小值，那么f(x)是全局最小值（global minimum）。\n",
    "\n",
    "深度学习模型的目标函数可能有若干局部最优值。当一个优化问题的数值解在局部最优解附近时，由于目标函数有关解的梯度接近或变成零，最终迭代求得的数值解可能只令目标函数局部最小化而非全局最小化。"
   ]
  },
  {
   "cell_type": "markdown",
   "metadata": {},
   "source": [
    "## 鞍点\n",
    "梯度接近或变成零可能是由于当前解在局部最优解附近造成的。事实上，另一种可能性是当前解在鞍点（saddle point）附近。\n",
    "\n",
    "<img src='saddlepoint.jpg' width=50%>\n",
    "\n",
    "在图的鞍点位置，目标函数在x轴方向上是局部最小值，但在y轴方向上是局部最大值。\n",
    "\n",
    "假设一个函数的输入为k维向量，输出为标量，那么它的海森矩阵（Hessian matrix）有k个特征值。该函数在梯度为0的位置上可能是局部最小值、局部最大值或者鞍点。\n",
    "\n",
    "- 当函数的海森矩阵在梯度为零的位置上的特征值全为正时，该函数得到局部最小值。\n",
    "- 当函数的海森矩阵在梯度为零的位置上的特征值全为负时，该函数得到局部最大值。\n",
    "- 当函数的海森矩阵在梯度为零的位置上的特征值有正有负时，该函数得到鞍点。\n",
    "\n",
    "随机矩阵理论告诉我们，对于一个大的高斯随机矩阵来说，任一特征值是正或者是负的概率都是0.5 [1]。那么，以上第一种情况的概率为 0.5k 。<font color=red>由于深度学习模型参数通常都是高维的（k很大），目标函数的鞍点通常比局部最小值更常见。</font>\n",
    "\n",
    "在深度学习中，虽然找到目标函数的全局最优解很难，但这并非必要。"
   ]
  },
  {
   "cell_type": "markdown",
   "metadata": {},
   "source": [
    "### 凸函数\n",
    "\n",
    "$$ \\lambda f(x) + (1-\\lambda)f(x) \\geq f(\\lambda x+(1-\\lambda) x $$\n",
    "\n",
    "### Jensen 不等式\n",
    "\n",
    "$$\n",
    "\\sum_i\\alpha _if(x_i) \\geq f(\\sum_i\\alpha_ix_i) and E_x[f(x)] \\geq f(E_x[x])(函数的期望大于等于期望的函数)\n",
    "$$"
   ]
  }
 ],
 "metadata": {
  "kernelspec": {
   "display_name": "Python 3",
   "language": "python",
   "name": "python3"
  },
  "language_info": {
   "codemirror_mode": {
    "name": "ipython",
    "version": 3
   },
   "file_extension": ".py",
   "mimetype": "text/x-python",
   "name": "python",
   "nbconvert_exporter": "python",
   "pygments_lexer": "ipython3",
   "version": "3.7.3"
  },
  "toc": {
   "base_numbering": 1,
   "nav_menu": {},
   "number_sections": true,
   "sideBar": true,
   "skip_h1_title": false,
   "title_cell": "Table of Contents",
   "title_sidebar": "Contents",
   "toc_cell": false,
   "toc_position": {},
   "toc_section_display": true,
   "toc_window_display": false
  }
 },
 "nbformat": 4,
 "nbformat_minor": 2
}
